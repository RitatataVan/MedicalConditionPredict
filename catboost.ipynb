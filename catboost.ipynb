{
 "cells": [
  {
   "cell_type": "markdown",
   "id": "5dffed4f",
   "metadata": {
    "papermill": {
     "duration": 0.00996,
     "end_time": "2023-05-18T13:33:30.808842",
     "exception": false,
     "start_time": "2023-05-18T13:33:30.798882",
     "status": "completed"
    },
    "tags": []
   },
   "source": [
    "## Imports"
   ]
  },
  {
   "cell_type": "code",
   "execution_count": 1,
   "id": "1df5dd4a",
   "metadata": {
    "_cell_guid": "b1076dfc-b9ad-4769-8c92-a6c4dae69d19",
    "_uuid": "8f2839f25d086af736a60e9eeb907d3b93b6e0e5",
    "execution": {
     "iopub.execute_input": "2023-05-18T13:33:30.831425Z",
     "iopub.status.busy": "2023-05-18T13:33:30.831009Z",
     "iopub.status.idle": "2023-05-18T13:33:32.855887Z",
     "shell.execute_reply": "2023-05-18T13:33:32.854623Z"
    },
    "papermill": {
     "duration": 2.03989,
     "end_time": "2023-05-18T13:33:32.858938",
     "exception": false,
     "start_time": "2023-05-18T13:33:30.819048",
     "status": "completed"
    },
    "tags": []
   },
   "outputs": [
    {
     "name": "stderr",
     "output_type": "stream",
     "text": [
      "/opt/conda/lib/python3.10/site-packages/scipy/__init__.py:146: UserWarning: A NumPy version >=1.16.5 and <1.23.0 is required for this version of SciPy (detected version 1.23.5\n",
      "  warnings.warn(f\"A NumPy version >={np_minversion} and <{np_maxversion}\"\n"
     ]
    }
   ],
   "source": [
    "import sys\n",
    "sys.path.append('../input/iterativestratification')\n",
    "\n",
    "import pandas as pd\n",
    "import numpy as np\n",
    "import matplotlib.pyplot as plt\n",
    "import seaborn as sns\n",
    "\n",
    "from scipy import stats\n",
    "from scipy.stats import norm, skew, kurtosis\n",
    "import warnings\n",
    "\n",
    "from sklearn.preprocessing import LabelEncoder\n",
    "from iterstrat.ml_stratifiers import MultilabelStratifiedKFold\n",
    "from tqdm.auto import tqdm\n",
    "import catboost as cb\n",
    "\n",
    "\n",
    "from statsmodels.tools.sm_exceptions import ConvergenceWarning\n",
    "warnings.simplefilter(\"ignore\", category=ConvergenceWarning)\n",
    "warnings.filterwarnings('ignore')\n",
    "\n",
    "plt.style.use('ggplot')\n",
    "cust_color = [\n",
    "    '#EDC7B7',\n",
    "    '#EEE2DC',\n",
    "    '#BAB2B5',\n",
    "    '#123C69',\n",
    "    '#AC3B61'\n",
    "]\n",
    "plt.rcParams['figure.figsize'] = (12,4)\n",
    "plt.rcParams['figure.dpi'] = 300\n",
    "plt.rcParams[\"axes.grid\"] = False\n",
    "plt.rcParams[\"grid.color\"] = cust_color[3]\n",
    "plt.rcParams[\"grid.alpha\"] = 0.5\n",
    "plt.rcParams[\"grid.linestyle\"] = '--'\n",
    "plt.rcParams[\"font.family\"] = \"monospace\"\n",
    "\n",
    "plt.rcParams['axes.edgecolor'] = 'black'\n",
    "plt.rcParams['figure.frameon'] = True\n",
    "plt.rcParams['axes.spines.left'] = True\n",
    "plt.rcParams['axes.spines.bottom'] = True\n",
    "plt.rcParams['axes.spines.top'] = False\n",
    "plt.rcParams['axes.spines.right'] = False\n",
    "plt.rcParams['axes.linewidth'] = 0.5"
   ]
  },
  {
   "cell_type": "markdown",
   "id": "8b1528fa",
   "metadata": {
    "papermill": {
     "duration": 0.010268,
     "end_time": "2023-05-18T13:33:32.879839",
     "exception": false,
     "start_time": "2023-05-18T13:33:32.869571",
     "status": "completed"
    },
    "tags": []
   },
   "source": [
    "# Data Loading"
   ]
  },
  {
   "cell_type": "code",
   "execution_count": 2,
   "id": "bd851d0a",
   "metadata": {
    "execution": {
     "iopub.execute_input": "2023-05-18T13:33:32.902455Z",
     "iopub.status.busy": "2023-05-18T13:33:32.902006Z",
     "iopub.status.idle": "2023-05-18T13:33:32.955434Z",
     "shell.execute_reply": "2023-05-18T13:33:32.954550Z"
    },
    "papermill": {
     "duration": 0.067845,
     "end_time": "2023-05-18T13:33:32.958198",
     "exception": false,
     "start_time": "2023-05-18T13:33:32.890353",
     "status": "completed"
    },
    "tags": []
   },
   "outputs": [],
   "source": [
    "train = pd.read_csv('/kaggle/input/icr-identify-age-related-conditions/train.csv')\n",
    "greeks = pd.read_csv('/kaggle/input/icr-identify-age-related-conditions/greeks.csv')\n",
    "test = pd.read_csv('/kaggle/input/icr-identify-age-related-conditions/test.csv')\n",
    "\n",
    "train.columns = train.columns.str.strip()\n",
    "test.columns = test.columns.str.strip()"
   ]
  },
  {
   "cell_type": "code",
   "execution_count": 3,
   "id": "3354ab3c",
   "metadata": {
    "execution": {
     "iopub.execute_input": "2023-05-18T13:33:32.981712Z",
     "iopub.status.busy": "2023-05-18T13:33:32.981290Z",
     "iopub.status.idle": "2023-05-18T13:33:32.986647Z",
     "shell.execute_reply": "2023-05-18T13:33:32.985563Z"
    },
    "papermill": {
     "duration": 0.019738,
     "end_time": "2023-05-18T13:33:32.988857",
     "exception": false,
     "start_time": "2023-05-18T13:33:32.969119",
     "status": "completed"
    },
    "tags": []
   },
   "outputs": [],
   "source": [
    "num_cols = train.columns.tolist()[1:-1]\n",
    "cat_cols = 'EJ'\n",
    "num_cols.remove(cat_cols)"
   ]
  },
  {
   "cell_type": "code",
   "execution_count": 14,
   "id": "1e7f8cfc",
   "metadata": {
    "execution": {
     "iopub.execute_input": "2023-05-18T13:36:41.728736Z",
     "iopub.status.busy": "2023-05-18T13:36:41.727954Z",
     "iopub.status.idle": "2023-05-18T13:36:41.734757Z",
     "shell.execute_reply": "2023-05-18T13:36:41.733865Z"
    },
    "papermill": {
     "duration": 0.089991,
     "end_time": "2023-05-18T13:36:41.736933",
     "exception": false,
     "start_time": "2023-05-18T13:36:41.646942",
     "status": "completed"
    },
    "tags": []
   },
   "outputs": [],
   "source": [
    "# Create a LabelEncoder object.\n",
    "encoder = LabelEncoder()\n",
    "# Transform the data.\n",
    "train[cat_cols] = encoder.fit_transform(train[cat_cols])\n",
    "test[cat_cols] = encoder.transform(test[cat_cols])"
   ]
  },
  {
   "cell_type": "code",
   "execution_count": 15,
   "id": "01f300a8",
   "metadata": {
    "execution": {
     "iopub.execute_input": "2023-05-18T13:36:41.898094Z",
     "iopub.status.busy": "2023-05-18T13:36:41.896870Z",
     "iopub.status.idle": "2023-05-18T13:39:27.281636Z",
     "shell.execute_reply": "2023-05-18T13:39:27.280283Z"
    },
    "papermill": {
     "duration": 165.468656,
     "end_time": "2023-05-18T13:39:27.284467",
     "exception": false,
     "start_time": "2023-05-18T13:36:41.815811",
     "status": "completed"
    },
    "tags": []
   },
   "outputs": [
    {
     "name": "stdout",
     "output_type": "stream",
     "text": [
      "0:\tlearn: 0.6907267\ttest: 0.6912612\tbest: 0.6912612 (0)\ttotal: 68.6ms\tremaining: 11m 25s\n",
      "1000:\tlearn: 0.0998772\ttest: 0.3644460\tbest: 0.3633853 (992)\ttotal: 11.2s\tremaining: 1m 40s\n",
      "Stopped by overfitting detector  (1000 iterations wait)\n",
      "\n",
      "bestTest = 0.3633853116\n",
      "bestIteration = 992\n",
      "\n",
      "Shrink model to first 993 iterations.\n",
      "0:\tlearn: 0.6909054\ttest: 0.6911446\tbest: 0.6911446 (0)\ttotal: 10.8ms\tremaining: 1m 47s\n",
      "1000:\tlearn: 0.1053599\ttest: 0.2726799\tbest: 0.2726799 (1000)\ttotal: 10.7s\tremaining: 1m 35s\n",
      "2000:\tlearn: 0.0230848\ttest: 0.2533569\tbest: 0.2511949 (1708)\ttotal: 21.8s\tremaining: 1m 27s\n",
      "Stopped by overfitting detector  (1000 iterations wait)\n",
      "\n",
      "bestTest = 0.2511949429\n",
      "bestIteration = 1708\n",
      "\n",
      "Shrink model to first 1709 iterations.\n",
      "0:\tlearn: 0.6907639\ttest: 0.6910948\tbest: 0.6910948 (0)\ttotal: 11.6ms\tremaining: 1m 55s\n",
      "1000:\tlearn: 0.1025662\ttest: 0.2475667\tbest: 0.2475667 (1000)\ttotal: 10.7s\tremaining: 1m 36s\n",
      "2000:\tlearn: 0.0239101\ttest: 0.1919123\tbest: 0.1919123 (2000)\ttotal: 21.5s\tremaining: 1m 26s\n",
      "3000:\tlearn: 0.0091598\ttest: 0.1813448\tbest: 0.1812699 (2988)\ttotal: 31.2s\tremaining: 1m 12s\n",
      "4000:\tlearn: 0.0051608\ttest: 0.1803232\tbest: 0.1800099 (3790)\ttotal: 40.5s\tremaining: 1m\n",
      "5000:\tlearn: 0.0034727\ttest: 0.1803018\tbest: 0.1798119 (4434)\ttotal: 50.1s\tremaining: 50.1s\n",
      "Stopped by overfitting detector  (1000 iterations wait)\n",
      "\n",
      "bestTest = 0.1798118535\n",
      "bestIteration = 4434\n",
      "\n",
      "Shrink model to first 4435 iterations.\n",
      "0:\tlearn: 0.6906724\ttest: 0.6912569\tbest: 0.6912569 (0)\ttotal: 7.94ms\tremaining: 1m 19s\n",
      "1000:\tlearn: 0.1068720\ttest: 0.2770230\tbest: 0.2770230 (1000)\ttotal: 10.8s\tremaining: 1m 36s\n",
      "2000:\tlearn: 0.0246327\ttest: 0.2459814\tbest: 0.2436287 (1871)\ttotal: 21.4s\tremaining: 1m 25s\n",
      "Stopped by overfitting detector  (1000 iterations wait)\n",
      "\n",
      "bestTest = 0.2436287341\n",
      "bestIteration = 1871\n",
      "\n",
      "Shrink model to first 1872 iterations.\n",
      "0:\tlearn: 0.6904071\ttest: 0.6908799\tbest: 0.6908799 (0)\ttotal: 11.3ms\tremaining: 1m 53s\n",
      "1000:\tlearn: 0.1008051\ttest: 0.3053010\tbest: 0.3053010 (1000)\ttotal: 10.7s\tremaining: 1m 36s\n",
      "2000:\tlearn: 0.0230935\ttest: 0.3081578\tbest: 0.2927500 (1462)\ttotal: 21s\tremaining: 1m 24s\n",
      "Stopped by overfitting detector  (1000 iterations wait)\n",
      "\n",
      "bestTest = 0.2927500089\n",
      "bestIteration = 1462\n",
      "\n",
      "Shrink model to first 1463 iterations.\n"
     ]
    }
   ],
   "source": [
    "oof = np.zeros((len(train), 2))\n",
    "\n",
    "skf = MultilabelStratifiedKFold(n_splits=5, shuffle=True, random_state=42)\n",
    "\n",
    "final_preds = []\n",
    "\n",
    "params={\n",
    "    'iterations':10000,\n",
    "    'learning_rate':0.005,\n",
    "    'early_stopping_rounds':1000,\n",
    "    'auto_class_weights':'Balanced',\n",
    "    'loss_function':'MultiClass',\n",
    "    'eval_metric':'MultiClass:use_weights=True',\n",
    "    'random_seed':42,\n",
    "    'use_best_model':True,\n",
    "    'l2_leaf_reg':1,\n",
    "    'max_ctr_complexity':15,\n",
    "    'max_depth':10,\n",
    "    \"grow_policy\":'Lossguide',\n",
    "    'max_leaves':64,\n",
    "    \"min_data_in_leaf\":40,\n",
    "\n",
    "    }\n",
    "\n",
    "for train_index,val_index in skf.split(train, greeks.iloc[:,1:-1]):\n",
    "\n",
    "    X_train, X_val = train.loc[train_index, num_cols + [cat_cols]], train.loc[val_index, num_cols + [cat_cols]]\n",
    "    y_train, y_val = train.loc[train_index, 'Class'], train.loc[val_index, 'Class']\n",
    "    \n",
    "    \n",
    "    model = cb.CatBoostClassifier(**params)\n",
    "    model.fit(X_train,y_train,eval_set=[(X_val,y_val)], verbose=1000)\n",
    "    preds = model.predict_proba(X_val)\n",
    "    oof[val_index, :] = preds\n",
    "    final_preds.append(model.predict_proba(test.iloc[:,1:]))"
   ]
  },
  {
   "cell_type": "markdown",
   "id": "d2f516cb",
   "metadata": {
    "papermill": {
     "duration": 0.081278,
     "end_time": "2023-05-18T13:39:27.448902",
     "exception": false,
     "start_time": "2023-05-18T13:39:27.367624",
     "status": "completed"
    },
    "tags": []
   },
   "source": [
    " This is my quick draft implementation of the competition metric. I am not sure if it's working as intended but seems to be in line with other metrics. But anyways take it with a grain of salt, please let me know if there's something wrong..."
   ]
  },
  {
   "cell_type": "markdown",
   "id": "4c0f419c",
   "metadata": {
    "papermill": {
     "duration": 0.080903,
     "end_time": "2023-05-18T13:39:27.611805",
     "exception": false,
     "start_time": "2023-05-18T13:39:27.530902",
     "status": "completed"
    },
    "tags": []
   },
   "source": [
    "Updated the metric based on this [discussion](https://www.kaggle.com/competitions/icr-identify-age-related-conditions/discussion/410864). It seems to get CV and LB closer, but correlation still similar with old implementation:\n",
    "\n",
    "![](https://i.imgur.com/4FcxvaO.png)"
   ]
  },
  {
   "cell_type": "code",
   "execution_count": 16,
   "id": "9c4bf622",
   "metadata": {
    "execution": {
     "iopub.execute_input": "2023-05-18T13:39:27.779633Z",
     "iopub.status.busy": "2023-05-18T13:39:27.778310Z",
     "iopub.status.idle": "2023-05-18T13:39:27.791028Z",
     "shell.execute_reply": "2023-05-18T13:39:27.789803Z"
    },
    "papermill": {
     "duration": 0.099385,
     "end_time": "2023-05-18T13:39:27.793790",
     "exception": false,
     "start_time": "2023-05-18T13:39:27.694405",
     "status": "completed"
    },
    "tags": []
   },
   "outputs": [
    {
     "data": {
      "text/plain": [
       "0.26679282403883736"
      ]
     },
     "execution_count": 16,
     "metadata": {},
     "output_type": "execute_result"
    }
   ],
   "source": [
    "def balance_logloss(y_true, y_pred):\n",
    "    y_pred = np.clip(y_pred, 1e-15, 1-1e-15)\n",
    "    y_pred / np.sum(y_pred, axis=1)[:, None]\n",
    "    nc = np.bincount(y_true)\n",
    "    \n",
    "    logloss = (-1/nc[0]*(np.sum(np.where(y_true==0,1,0) * np.log(y_pred[:,0]))) - 1/nc[1]*(np.sum(np.where(y_true!=0,1,0) * np.log(y_pred[:,1])))) / 2\n",
    "    \n",
    "    return logloss\n",
    "\n",
    "balance_logloss(train['Class'], oof)"
   ]
  },
  {
   "cell_type": "markdown",
   "id": "321fd038",
   "metadata": {
    "papermill": {
     "duration": 0.083616,
     "end_time": "2023-05-18T13:39:27.961314",
     "exception": false,
     "start_time": "2023-05-18T13:39:27.877698",
     "status": "completed"
    },
    "tags": []
   },
   "source": [
    "You can also use something like this for sanity check, seems reproducing similar scores:"
   ]
  },
  {
   "cell_type": "code",
   "execution_count": 17,
   "id": "30bf138c",
   "metadata": {
    "execution": {
     "iopub.execute_input": "2023-05-18T13:39:28.126447Z",
     "iopub.status.busy": "2023-05-18T13:39:28.125069Z",
     "iopub.status.idle": "2023-05-18T13:39:28.140238Z",
     "shell.execute_reply": "2023-05-18T13:39:28.138797Z"
    },
    "papermill": {
     "duration": 0.100162,
     "end_time": "2023-05-18T13:39:28.142820",
     "exception": false,
     "start_time": "2023-05-18T13:39:28.042658",
     "status": "completed"
    },
    "tags": []
   },
   "outputs": [
    {
     "name": "stdout",
     "output_type": "stream",
     "text": [
      "0.2667928240388374\n"
     ]
    }
   ],
   "source": [
    "from sklearn.metrics import log_loss\n",
    "\n",
    "def balance_loglossv2(y_true, y_pred):\n",
    "    target_mean = y_true.mean()\n",
    "    w0 = 1/(1-target_mean)\n",
    "    w1 = 1/target_mean\n",
    "    sample_weight = [w0 if y == 0 else w1 for y in y_true]\n",
    "    loss = log_loss(y_true, y_pred, sample_weight=sample_weight)\n",
    "    \n",
    "    return loss\n",
    "\n",
    "print(balance_loglossv2(train['Class'], oof))  "
   ]
  },
  {
   "cell_type": "markdown",
   "id": "2c12647d",
   "metadata": {
    "papermill": {
     "duration": 0.080452,
     "end_time": "2023-05-18T13:39:28.304603",
     "exception": false,
     "start_time": "2023-05-18T13:39:28.224151",
     "status": "completed"
    },
    "tags": []
   },
   "source": [
    "### Submission"
   ]
  },
  {
   "cell_type": "code",
   "execution_count": 18,
   "id": "42c20dfa",
   "metadata": {
    "execution": {
     "iopub.execute_input": "2023-05-18T13:39:28.471391Z",
     "iopub.status.busy": "2023-05-18T13:39:28.469971Z",
     "iopub.status.idle": "2023-05-18T13:39:28.510472Z",
     "shell.execute_reply": "2023-05-18T13:39:28.509427Z"
    },
    "papermill": {
     "duration": 0.126139,
     "end_time": "2023-05-18T13:39:28.513242",
     "exception": false,
     "start_time": "2023-05-18T13:39:28.387103",
     "status": "completed"
    },
    "tags": []
   },
   "outputs": [
    {
     "data": {
      "text/html": [
       "<div>\n",
       "<style scoped>\n",
       "    .dataframe tbody tr th:only-of-type {\n",
       "        vertical-align: middle;\n",
       "    }\n",
       "\n",
       "    .dataframe tbody tr th {\n",
       "        vertical-align: top;\n",
       "    }\n",
       "\n",
       "    .dataframe thead th {\n",
       "        text-align: right;\n",
       "    }\n",
       "</style>\n",
       "<table border=\"1\" class=\"dataframe\">\n",
       "  <thead>\n",
       "    <tr style=\"text-align: right;\">\n",
       "      <th></th>\n",
       "      <th>Id</th>\n",
       "      <th>class_0</th>\n",
       "      <th>class_1</th>\n",
       "    </tr>\n",
       "  </thead>\n",
       "  <tbody>\n",
       "    <tr>\n",
       "      <th>0</th>\n",
       "      <td>00eed32682bb</td>\n",
       "      <td>0.774959</td>\n",
       "      <td>0.225041</td>\n",
       "    </tr>\n",
       "    <tr>\n",
       "      <th>1</th>\n",
       "      <td>010ebe33f668</td>\n",
       "      <td>0.774959</td>\n",
       "      <td>0.225041</td>\n",
       "    </tr>\n",
       "    <tr>\n",
       "      <th>2</th>\n",
       "      <td>02fa521e1838</td>\n",
       "      <td>0.774959</td>\n",
       "      <td>0.225041</td>\n",
       "    </tr>\n",
       "    <tr>\n",
       "      <th>3</th>\n",
       "      <td>040e15f562a2</td>\n",
       "      <td>0.774959</td>\n",
       "      <td>0.225041</td>\n",
       "    </tr>\n",
       "    <tr>\n",
       "      <th>4</th>\n",
       "      <td>046e85c7cc7f</td>\n",
       "      <td>0.774959</td>\n",
       "      <td>0.225041</td>\n",
       "    </tr>\n",
       "  </tbody>\n",
       "</table>\n",
       "</div>"
      ],
      "text/plain": [
       "             Id   class_0   class_1\n",
       "0  00eed32682bb  0.774959  0.225041\n",
       "1  010ebe33f668  0.774959  0.225041\n",
       "2  02fa521e1838  0.774959  0.225041\n",
       "3  040e15f562a2  0.774959  0.225041\n",
       "4  046e85c7cc7f  0.774959  0.225041"
      ]
     },
     "execution_count": 18,
     "metadata": {},
     "output_type": "execute_result"
    }
   ],
   "source": [
    "sample_submission = pd.read_csv('/kaggle/input/icr-identify-age-related-conditions/sample_submission.csv')\n",
    "sample_submission[['class_0','class_1']] = np.mean(final_preds, axis=0)\n",
    "sample_submission.to_csv('submission2.csv',index=False)\n",
    "sample_submission"
   ]
  }
 ],
 "metadata": {
  "kernelspec": {
   "display_name": "Python 3 (ipykernel)",
   "language": "python",
   "name": "python3"
  },
  "language_info": {
   "codemirror_mode": {
    "name": "ipython",
    "version": 3
   },
   "file_extension": ".py",
   "mimetype": "text/x-python",
   "name": "python",
   "nbconvert_exporter": "python",
   "pygments_lexer": "ipython3",
   "version": "3.9.13"
  },
  "papermill": {
   "default_parameters": {},
   "duration": 371.314985,
   "end_time": "2023-05-18T13:39:29.887962",
   "environment_variables": {},
   "exception": null,
   "input_path": "__notebook__.ipynb",
   "output_path": "__notebook__.ipynb",
   "parameters": {},
   "start_time": "2023-05-18T13:33:18.572977",
   "version": "2.4.0"
  }
 },
 "nbformat": 4,
 "nbformat_minor": 5
}
