{
 "cells": [
  {
   "cell_type": "code",
   "execution_count": 1,
   "id": "d5189572",
   "metadata": {
    "_cell_guid": "b1076dfc-b9ad-4769-8c92-a6c4dae69d19",
    "_uuid": "8f2839f25d086af736a60e9eeb907d3b93b6e0e5",
    "execution": {
     "iopub.execute_input": "2023-05-30T10:51:03.234105Z",
     "iopub.status.busy": "2023-05-30T10:51:03.232669Z",
     "iopub.status.idle": "2023-05-30T10:51:07.433166Z",
     "shell.execute_reply": "2023-05-30T10:51:07.432029Z"
    },
    "papermill": {
     "duration": 4.210457,
     "end_time": "2023-05-30T10:51:07.436165",
     "exception": false,
     "start_time": "2023-05-30T10:51:03.225708",
     "status": "completed"
    },
    "tags": []
   },
   "outputs": [
    {
     "name": "stderr",
     "output_type": "stream",
     "text": [
      "/opt/conda/lib/python3.10/site-packages/scipy/__init__.py:146: UserWarning: A NumPy version >=1.16.5 and <1.23.0 is required for this version of SciPy (detected version 1.23.5\n",
      "  warnings.warn(f\"A NumPy version >={np_minversion} and <{np_maxversion}\"\n"
     ]
    }
   ],
   "source": [
    "import numpy as np # linear algebra\n",
    "import pandas as pd # data processing, CSV file I/O (e.g. pd.read_csv)\n",
    "from sklearn.metrics import log_loss\n",
    "import lightgbm as lgb\n",
    "from catboost import Pool, CatBoostClassifier\n",
    "import random\n",
    "import optuna\n",
    "\n",
    "import warnings\n",
    "warnings.filterwarnings('ignore')"
   ]
  },
  {
   "cell_type": "code",
   "execution_count": 2,
   "id": "162b5f4b",
   "metadata": {
    "execution": {
     "iopub.execute_input": "2023-05-30T10:51:07.449115Z",
     "iopub.status.busy": "2023-05-30T10:51:07.448622Z",
     "iopub.status.idle": "2023-05-30T10:51:07.500561Z",
     "shell.execute_reply": "2023-05-30T10:51:07.498937Z"
    },
    "papermill": {
     "duration": 0.06205,
     "end_time": "2023-05-30T10:51:07.503485",
     "exception": false,
     "start_time": "2023-05-30T10:51:07.441435",
     "status": "completed"
    },
    "tags": []
   },
   "outputs": [],
   "source": [
    "df   = pd.read_csv('train_folds.csv')\n",
    "Test = pd.read_csv('/kaggle/input/icr-identify-age-related-conditions/test.csv')"
   ]
  },
  {
   "cell_type": "code",
   "execution_count": 3,
   "id": "c73705e9",
   "metadata": {
    "execution": {
     "iopub.execute_input": "2023-05-30T10:51:07.516435Z",
     "iopub.status.busy": "2023-05-30T10:51:07.515947Z",
     "iopub.status.idle": "2023-05-30T10:51:07.536913Z",
     "shell.execute_reply": "2023-05-30T10:51:07.535530Z"
    },
    "papermill": {
     "duration": 0.031085,
     "end_time": "2023-05-30T10:51:07.539898",
     "exception": false,
     "start_time": "2023-05-30T10:51:07.508813",
     "status": "completed"
    },
    "tags": []
   },
   "outputs": [],
   "source": [
    "df['EJ']   = df['EJ'].replace({'A': 0, 'B': 1})\n",
    "Test['EJ'] = Test['EJ'].replace({'A': 0, 'B': 1})\n",
    "\n",
    "df   = df.rename(columns={'BD ': 'BD', 'CD ': 'CD', 'CW ': 'CW', 'FD ': 'FD'})\n",
    "Test = Test.rename(columns={'BD ': 'BD', 'CD ': 'CD', 'CW ': 'CW', 'FD ': 'FD'})"
   ]
  },
  {
   "cell_type": "code",
   "execution_count": 4,
   "id": "3fbcf8fa",
   "metadata": {
    "execution": {
     "iopub.execute_input": "2023-05-30T10:51:07.552565Z",
     "iopub.status.busy": "2023-05-30T10:51:07.552072Z",
     "iopub.status.idle": "2023-05-30T10:51:07.560192Z",
     "shell.execute_reply": "2023-05-30T10:51:07.558641Z"
    },
    "papermill": {
     "duration": 0.017978,
     "end_time": "2023-05-30T10:51:07.563006",
     "exception": false,
     "start_time": "2023-05-30T10:51:07.545028",
     "status": "completed"
    },
    "tags": []
   },
   "outputs": [],
   "source": [
    "features = ['AB', 'AF', 'AH', 'AM', 'AR', 'AX', 'AY', 'AZ', #'BC', \n",
    "            'BD', 'BN', 'BP', 'BQ', 'BR', 'BZ',\n",
    "            'CB', 'CC', 'CD', 'CF', 'CH', #'CL', \n",
    "            'CR', 'CS', 'CU', 'CW',\n",
    "            'DA', 'DE', 'DF', 'DH', 'DI', 'DL', 'DN', 'DU', 'DV', 'DY',\n",
    "            'EB', 'EE', 'EG', 'EH', 'EL', 'EP', 'EU',\n",
    "            'FC', 'FD', 'FE', 'FI', 'FL', 'FR', 'FS',\n",
    "            'GB', 'GE', 'GF', 'GH', 'GI', 'GL', 'EJ']\n",
    "label    = df.columns[-2]"
   ]
  },
  {
   "cell_type": "code",
   "execution_count": 5,
   "id": "22f5f02f",
   "metadata": {
    "execution": {
     "iopub.execute_input": "2023-05-30T10:51:07.577178Z",
     "iopub.status.busy": "2023-05-30T10:51:07.576355Z",
     "iopub.status.idle": "2023-05-30T10:51:07.585079Z",
     "shell.execute_reply": "2023-05-30T10:51:07.583883Z"
    },
    "papermill": {
     "duration": 0.019743,
     "end_time": "2023-05-30T10:51:07.587995",
     "exception": false,
     "start_time": "2023-05-30T10:51:07.568252",
     "status": "completed"
    },
    "tags": []
   },
   "outputs": [],
   "source": [
    "def balance_logloss(y_true, y_pred):\n",
    "    y_pred = np.clip(y_pred, 1e-15, 1-1e-15)\n",
    "    y_pred / np.sum(y_pred, axis=1)[:, None]\n",
    "    nc = np.bincount(y_true)\n",
    "    w0, w1 = 1/(nc[0]/y_true.shape[0]), 1/(nc[1]/y_true.shape[0])\n",
    "    \n",
    "    logloss = (-w0/nc[0]*(np.sum(np.where(y_true==0,1,0) * np.log(y_pred[:,0]))) - w1/nc[1]*(np.sum(np.where(y_true!=0,1,0) * np.log(y_pred[:,1])))) / (w0+w1)\n",
    "    \n",
    "    return logloss"
   ]
  },
  {
   "cell_type": "code",
   "execution_count": 6,
   "id": "2c05ffaf",
   "metadata": {
    "execution": {
     "iopub.execute_input": "2023-05-30T10:51:07.601348Z",
     "iopub.status.busy": "2023-05-30T10:51:07.600860Z",
     "iopub.status.idle": "2023-05-30T10:51:07.606875Z",
     "shell.execute_reply": "2023-05-30T10:51:07.605614Z"
    },
    "papermill": {
     "duration": 0.015766,
     "end_time": "2023-05-30T10:51:07.609189",
     "exception": false,
     "start_time": "2023-05-30T10:51:07.593423",
     "status": "completed"
    },
    "tags": []
   },
   "outputs": [],
   "source": [
    "def seed_everything(seed):\n",
    "    random.seed(seed)\n",
    "    np.random.seed(seed)\n",
    "seed_everything(42)"
   ]
  },
  {
   "cell_type": "code",
   "execution_count": 7,
   "id": "25b96df5",
   "metadata": {
    "execution": {
     "iopub.execute_input": "2023-05-30T10:51:07.621718Z",
     "iopub.status.busy": "2023-05-30T10:51:07.621191Z",
     "iopub.status.idle": "2023-05-30T10:51:07.627582Z",
     "shell.execute_reply": "2023-05-30T10:51:07.626125Z"
    },
    "papermill": {
     "duration": 0.015705,
     "end_time": "2023-05-30T10:51:07.630066",
     "exception": false,
     "start_time": "2023-05-30T10:51:07.614361",
     "status": "completed"
    },
    "tags": []
   },
   "outputs": [],
   "source": [
    "def calc_log_loss_weight(y_true):\n",
    "    nc = np.bincount(y_true)\n",
    "    w0, w1 = 1/(nc[0]/y_true.shape[0]), 1/(nc[1]/y_true.shape[0])\n",
    "    return w0, w1"
   ]
  },
  {
   "cell_type": "markdown",
   "id": "d68f89a0",
   "metadata": {
    "papermill": {
     "duration": 0.004688,
     "end_time": "2023-05-30T10:51:07.639857",
     "exception": false,
     "start_time": "2023-05-30T10:51:07.635169",
     "status": "completed"
    },
    "tags": []
   },
   "source": [
    "# LGB"
   ]
  },
  {
   "cell_type": "code",
   "execution_count": 8,
   "id": "9c8f5f03",
   "metadata": {
    "execution": {
     "iopub.execute_input": "2023-05-30T10:51:07.652949Z",
     "iopub.status.busy": "2023-05-30T10:51:07.651418Z",
     "iopub.status.idle": "2023-05-30T10:51:10.860427Z",
     "shell.execute_reply": "2023-05-30T10:51:10.858884Z"
    },
    "papermill": {
     "duration": 3.219157,
     "end_time": "2023-05-30T10:51:10.864055",
     "exception": false,
     "start_time": "2023-05-30T10:51:07.644898",
     "status": "completed"
    },
    "tags": []
   },
   "outputs": [
    {
     "name": "stdout",
     "output_type": "stream",
     "text": [
      "------------------ Fold: 0\n",
      "Training until validation scores don't improve for 20 rounds\n",
      "Early stopping, best iteration is:\n",
      "[255]\ttraining's binary_logloss: 0.0122373\tvalid_1's binary_logloss: 0.0826691\n",
      "0 0.08051158622001447\n",
      "------------------ Fold: 1\n",
      "Training until validation scores don't improve for 20 rounds\n",
      "Early stopping, best iteration is:\n",
      "[80]\ttraining's binary_logloss: 0.0993131\tvalid_1's binary_logloss: 0.279111\n",
      "1 0.24224261248321416\n",
      "------------------ Fold: 2\n",
      "Training until validation scores don't improve for 20 rounds\n",
      "Early stopping, best iteration is:\n",
      "[154]\ttraining's binary_logloss: 0.0289155\tvalid_1's binary_logloss: 0.196511\n",
      "2 0.19323991559156248\n",
      "------------------ Fold: 3\n",
      "Training until validation scores don't improve for 20 rounds\n",
      "Early stopping, best iteration is:\n",
      "[276]\ttraining's binary_logloss: 0.0113564\tvalid_1's binary_logloss: 0.141555\n",
      "3 0.11739976500762253\n",
      "------------------ Fold: 4\n",
      "Training until validation scores don't improve for 20 rounds\n",
      "Early stopping, best iteration is:\n",
      "[73]\ttraining's binary_logloss: 0.111375\tvalid_1's binary_logloss: 0.26064\n",
      "4 0.23636823276853805\n",
      "Balance Log loss:\n",
      "[0.08051158622001447, 0.24224261248321416, 0.19323991559156248, 0.11739976500762253, 0.23636823276853805]\n",
      "0.17395242241419034 0.0645920796434546\n"
     ]
    }
   ],
   "source": [
    "final_valid_predictions = {}\n",
    "final_test_predictions = []\n",
    "bs = []\n",
    "\n",
    "\n",
    "for k in range(5):\n",
    "    print('------------------ Fold: '+str(k))\n",
    "    train     = df[df['kfold'] !=k].reset_index(drop=True)\n",
    "    val       = df[df['kfold'] ==k].reset_index(drop=True)\n",
    "    valid_ids = val.Id.values.tolist()\n",
    "    \n",
    "    train_w0, train_w1 = calc_log_loss_weight(train[label])\n",
    "    valid_w0, valid_w1 = calc_log_loss_weight(val[label])\n",
    "\n",
    "    train_dataset = lgb.Dataset(train[features], train[label],weight=train[label].map({0: train_w0, 1: train_w1}), categorical_feature=[\"EJ\"] )\n",
    "    eval_dataset  = lgb.Dataset(val[features], val[label], weight=val[label].map({0: valid_w0, 1: valid_w1}), categorical_feature=[\"EJ\"])\n",
    "    lgb_params = {\n",
    "        'objective': 'binary', \n",
    "        'metric': 'binary_logloss', \n",
    "        'boosting': 'goss',\n",
    "        'learning_rate': 0.09110460114828077,\n",
    "        'num_leaves': 8,\n",
    "        'feature_fraction': 0.4989639912997521,\n",
    "        'bagging_fraction': 0.54872439795985,\n",
    "        'lambda_l1': 1.4522184914523175, \n",
    "        'lambda_l2': 1.7873553090132748e-08,\n",
    "        'n_jobs': -1,\n",
    "        'is_unbalance':True, \n",
    "        'verbose': -1,\n",
    "        'seed': 42,\n",
    "    }\n",
    "\n",
    "    model = lgb.train(\n",
    "                params = lgb_params,\n",
    "                train_set = train_dataset,\n",
    "                num_boost_round = 50000,\n",
    "                valid_sets = [train_dataset, eval_dataset],\n",
    "                early_stopping_rounds = 20,\n",
    "                verbose_eval = 10000,\n",
    "            )\n",
    "\n",
    "    preds_valid = model.predict(val[features])\n",
    "    preds_test  = model.predict(Test[features])\n",
    "    preds_valid = np.vstack([1 - preds_valid, preds_valid]).T\n",
    "    preds_test  = np.vstack([1 - preds_test, preds_test]).T\n",
    "    \n",
    "    final_test_predictions.append(preds_test)\n",
    "    final_valid_predictions.update(dict(zip(valid_ids, preds_valid)))\n",
    "    blogloss = balance_logloss(val[label], preds_valid)\n",
    "\n",
    "    bs.append(blogloss)\n",
    "    print(k, blogloss)\n",
    "print('Balance Log loss:')\n",
    "print(bs)\n",
    "print(np.mean(bs), np.std(bs))"
   ]
  },
  {
   "cell_type": "code",
   "execution_count": 9,
   "id": "e466ccd3",
   "metadata": {
    "execution": {
     "iopub.execute_input": "2023-05-30T10:51:10.878482Z",
     "iopub.status.busy": "2023-05-30T10:51:10.878065Z",
     "iopub.status.idle": "2023-05-30T10:51:10.909320Z",
     "shell.execute_reply": "2023-05-30T10:51:10.907995Z"
    },
    "papermill": {
     "duration": 0.042371,
     "end_time": "2023-05-30T10:51:10.912307",
     "exception": false,
     "start_time": "2023-05-30T10:51:10.869936",
     "status": "completed"
    },
    "tags": []
   },
   "outputs": [],
   "source": [
    "final_valid_predictions = pd.DataFrame.from_dict(final_valid_predictions, orient=\"index\").reset_index()\n",
    "final_valid_predictions.columns = ['Id', 'class_0', 'class_1']\n",
    "final_valid_predictions.to_csv(r\"oof.csv\", index=False)\n",
    "\n",
    "final_test_predictions = (final_test_predictions[0] + final_test_predictions[1] + final_test_predictions[2] + final_test_predictions[3] + final_test_predictions[4])/5\n",
    "test_dict = {}\n",
    "test_dict.update(dict(zip(Test.Id.values.tolist(), final_test_predictions)))\n",
    "submission = pd.DataFrame.from_dict(test_dict, orient=\"index\").reset_index()\n",
    "submission.columns = ['Id', 'class_0', 'class_1']                       \n",
    "\n",
    "submission.to_csv(r\"submission1.csv\", index=False)"
   ]
  },
  {
   "cell_type": "code",
   "execution_count": 10,
   "id": "f9a0787b",
   "metadata": {
    "execution": {
     "iopub.execute_input": "2023-05-30T10:51:10.926266Z",
     "iopub.status.busy": "2023-05-30T10:51:10.925856Z",
     "iopub.status.idle": "2023-05-30T10:51:10.941778Z",
     "shell.execute_reply": "2023-05-30T10:51:10.940110Z"
    },
    "papermill": {
     "duration": 0.025873,
     "end_time": "2023-05-30T10:51:10.944423",
     "exception": false,
     "start_time": "2023-05-30T10:51:10.918550",
     "status": "completed"
    },
    "tags": []
   },
   "outputs": [
    {
     "name": "stdout",
     "output_type": "stream",
     "text": [
      "balanced logarithmic loss for the baseline: 0.17403168384775786\n"
     ]
    }
   ],
   "source": [
    "#Befor checking accuracy let's first make sure that we have the data are sorted in the same way :)\n",
    "final_valid_predictions   = final_valid_predictions.sort_values('Id')\n",
    "Train                     = df.sort_values('Id')\n",
    "\n",
    "print('balanced logarithmic loss for the baseline: '+str(balance_logloss(df['Class'], final_valid_predictions[['class_0', 'class_1']].values)))"
   ]
  },
  {
   "cell_type": "code",
   "execution_count": 11,
   "id": "5e520a7f",
   "metadata": {
    "execution": {
     "iopub.execute_input": "2023-05-30T10:51:10.958402Z",
     "iopub.status.busy": "2023-05-30T10:51:10.957986Z",
     "iopub.status.idle": "2023-05-30T10:51:10.984969Z",
     "shell.execute_reply": "2023-05-30T10:51:10.983563Z"
    },
    "papermill": {
     "duration": 0.037463,
     "end_time": "2023-05-30T10:51:10.987729",
     "exception": false,
     "start_time": "2023-05-30T10:51:10.950266",
     "status": "completed"
    },
    "tags": []
   },
   "outputs": [
    {
     "data": {
      "text/html": [
       "<div>\n",
       "<style scoped>\n",
       "    .dataframe tbody tr th:only-of-type {\n",
       "        vertical-align: middle;\n",
       "    }\n",
       "\n",
       "    .dataframe tbody tr th {\n",
       "        vertical-align: top;\n",
       "    }\n",
       "\n",
       "    .dataframe thead th {\n",
       "        text-align: right;\n",
       "    }\n",
       "</style>\n",
       "<table border=\"1\" class=\"dataframe\">\n",
       "  <thead>\n",
       "    <tr style=\"text-align: right;\">\n",
       "      <th></th>\n",
       "      <th>Id</th>\n",
       "      <th>class_0</th>\n",
       "      <th>class_1</th>\n",
       "    </tr>\n",
       "  </thead>\n",
       "  <tbody>\n",
       "    <tr>\n",
       "      <th>0</th>\n",
       "      <td>00eed32682bb</td>\n",
       "      <td>0.654967</td>\n",
       "      <td>0.345033</td>\n",
       "    </tr>\n",
       "    <tr>\n",
       "      <th>1</th>\n",
       "      <td>010ebe33f668</td>\n",
       "      <td>0.654967</td>\n",
       "      <td>0.345033</td>\n",
       "    </tr>\n",
       "    <tr>\n",
       "      <th>2</th>\n",
       "      <td>02fa521e1838</td>\n",
       "      <td>0.654967</td>\n",
       "      <td>0.345033</td>\n",
       "    </tr>\n",
       "    <tr>\n",
       "      <th>3</th>\n",
       "      <td>040e15f562a2</td>\n",
       "      <td>0.654967</td>\n",
       "      <td>0.345033</td>\n",
       "    </tr>\n",
       "    <tr>\n",
       "      <th>4</th>\n",
       "      <td>046e85c7cc7f</td>\n",
       "      <td>0.654967</td>\n",
       "      <td>0.345033</td>\n",
       "    </tr>\n",
       "  </tbody>\n",
       "</table>\n",
       "</div>"
      ],
      "text/plain": [
       "             Id   class_0   class_1\n",
       "0  00eed32682bb  0.654967  0.345033\n",
       "1  010ebe33f668  0.654967  0.345033\n",
       "2  02fa521e1838  0.654967  0.345033\n",
       "3  040e15f562a2  0.654967  0.345033\n",
       "4  046e85c7cc7f  0.654967  0.345033"
      ]
     },
     "execution_count": 11,
     "metadata": {},
     "output_type": "execute_result"
    }
   ],
   "source": [
    "submission"
   ]
  }
 ],
 "metadata": {
  "kernelspec": {
   "display_name": "Python 3 (ipykernel)",
   "language": "python",
   "name": "python3"
  },
  "language_info": {
   "codemirror_mode": {
    "name": "ipython",
    "version": 3
   },
   "file_extension": ".py",
   "mimetype": "text/x-python",
   "name": "python",
   "nbconvert_exporter": "python",
   "pygments_lexer": "ipython3",
   "version": "3.9.13"
  },
  "papermill": {
   "default_parameters": {},
   "duration": 24.565074,
   "end_time": "2023-05-30T10:51:12.621234",
   "environment_variables": {},
   "exception": null,
   "input_path": "__notebook__.ipynb",
   "output_path": "__notebook__.ipynb",
   "parameters": {},
   "start_time": "2023-05-30T10:50:48.056160",
   "version": "2.4.0"
  }
 },
 "nbformat": 4,
 "nbformat_minor": 5
}
