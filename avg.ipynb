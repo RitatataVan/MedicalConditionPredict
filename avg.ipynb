{
 "cells": [
  {
   "cell_type": "code",
   "execution_count": 1,
   "id": "532e7661",
   "metadata": {},
   "outputs": [],
   "source": [
    "import pandas as pd"
   ]
  },
  {
   "cell_type": "code",
   "execution_count": null,
   "id": "9c04add6",
   "metadata": {},
   "outputs": [],
   "source": [
    "submission1 = pd.read_csv('submission1.csv')\n",
    "submission2 = pd.read_csv('submission2.csv').set_index('Id').reindex(submission1.Id).reset_index()\n",
    "\n",
    "sub = submission1.copy()\n",
    "sub['class_0'] = submission1['class_0']*0.5+submission2['class_0']*0.5\n",
    "sub['class_1'] = submission1['class_1']*0.5+submission2['class_1']*0.5\n",
    "sub.to_csv(\"submission.csv\", index=False)"
   ]
  }
 ],
 "metadata": {
  "kernelspec": {
   "display_name": "Python 3 (ipykernel)",
   "language": "python",
   "name": "python3"
  },
  "language_info": {
   "codemirror_mode": {
    "name": "ipython",
    "version": 3
   },
   "file_extension": ".py",
   "mimetype": "text/x-python",
   "name": "python",
   "nbconvert_exporter": "python",
   "pygments_lexer": "ipython3",
   "version": "3.9.13"
  }
 },
 "nbformat": 4,
 "nbformat_minor": 5
}
